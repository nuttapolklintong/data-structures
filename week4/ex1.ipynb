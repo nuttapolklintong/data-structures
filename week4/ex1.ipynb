{
 "cells": [
  {
   "cell_type": "code",
   "execution_count": 1,
   "id": "94ed8d1b",
   "metadata": {},
   "outputs": [
    {
     "name": "stdout",
     "output_type": "stream",
     "text": [
      "รหัสนักศึกษา :  674245002\n",
      "ชื่อ :  ณัฐพล ,นามสกุล : กลิ่นทอง\n"
     ]
    }
   ],
   "source": [
    "a = {\n",
    "    \"std_id\": \"674245002\",\n",
    "    \"fname\" : \"ณัฐพล\",\n",
    "    \"lname\" : \"กลิ่นทอง\",\n",
    "    \"phone\" : \"0982764651\",\n",
    "    \"gender\" : \"male\",\n",
    "    \"major\" : \"Computer Science\",\n",
    "\n",
    "}\n",
    "\n",
    "\n",
    "b = {\n",
    "    \"std_id\": \"674245000\",\n",
    "    \"fname\" : \"1x1x1x1x1\",\n",
    "    \"lname\" : \"Prototype\",\n",
    "    \"phone\" : \"0000000000\",\n",
    "    \"gender\" : \"male\",\n",
    "    \"major\" : \"Computer Science\",\n",
    "    }\n",
    "print(\"รหัสนักศึกษา : \",a['std_id'])\n",
    "print(\"ชื่อ : \", a['fname'], \",นามสกุล :\", a['lname'])"
   ]
  },
  {
   "cell_type": "code",
   "execution_count": 3,
   "id": "08af9a6d",
   "metadata": {},
   "outputs": [
    {
     "name": "stdout",
     "output_type": "stream",
     "text": [
      "รหัสนักศึกษา :  674245002\n",
      "ชื่อ :  ณัฐพล ,นามสกุล : กลิ่นทอง\n",
      "เบอร์โทร :  0982764651 ,เพศ male\n",
      "สาขาวิชา : Computer Science\n"
     ]
    }
   ],
   "source": [
    "input1 = input(\"std_id : \")\n",
    "input2 = input(\"fname :\")\n",
    "input3 = input(\"lname :\")\n",
    "input4 = input(\"phone :\")\n",
    "input5 = input(\"gender :\")\n",
    "input6 = input(\"major :\")\n",
    "\n",
    "a = [{\n",
    "    \"std_id\" : input1,\n",
    "    \"fname\"  : input2,\n",
    "    \"lname\"  : input3,\n",
    "    \"phone\"  : input4,\n",
    "    \"gender\" : input5,\n",
    "    \"major\"  : input6,\n",
    "    }]\n",
    "\n",
    "\n",
    "print(\"รหัสนักศึกษา : \",a[0]['std_id'])\n",
    "print(\"ชื่อ : \",a[0]['fname'], \",นามสกุล :\", a[0]['lname'],)\n",
    "print(\"เบอร์โทร : \", a[0]['phone'], \",เพศ\", a[0]['gender'],)\n",
    "print(\"สาขาวิชา :\", a[0]['major'])\n"
   ]
  },
  {
   "cell_type": "code",
   "execution_count": 4,
   "id": "58b55441",
   "metadata": {},
   "outputs": [
    {
     "name": "stdout",
     "output_type": "stream",
     "text": [
      "----------MAIN PROGRAM--------------\n",
      "---- พิมพ์ a รับข้อมูลใหม่,พิมพ์ q ออกจากโปรแกรม -\n",
      "----------MAIN PROGRAM--------------\n",
      "---- พิมพ์ a รับข้อมูลใหม่,พิมพ์ q ออกจากโปรแกรม -\n",
      "----------MAIN PROGRAM--------------\n",
      "---- พิมพ์ a รับข้อมูลใหม่,พิมพ์ q ออกจากโปรแกรม -\n"
     ]
    }
   ],
   "source": [
    "student = []\n",
    "loop = True\n",
    "i = 0\n",
    "while loop:\n",
    "\n",
    "    input1 = input(\"std_id :\")\n",
    "    input2 = input(\"fname :\")\n",
    "    input3 = input(\"lname :\")\n",
    "    input4 = input(\"phone :\")\n",
    "    input5 = input(\"gender :\")\n",
    "    input6 = input(\"major :\")\n",
    "    data = {\n",
    "    \"std_id\": input1,\n",
    "    \"fname\" : input2,\n",
    "    \"lname\" : input3,\n",
    "    \"phone\" : input4,\n",
    "    \"gender\": input5,\n",
    "    \"major\" : input6,\n",
    "    }\n",
    "    \n",
    "    student.append(data)\n",
    "\n",
    "    print(\"----------MAIN PROGRAM--------------\")\n",
    "    print(\"---- พิมพ์ a รับข้อมูลใหม่,พิมพ์ q ออกจากโปรแกรม -\")\n",
    "    inp_check = input(\"พิมพ์ 'a' หรือ พิมพ์ 'q' \")\n",
    "\n",
    "    if(inp_check == \"a\"):\n",
    "        loop = True\n",
    "\n",
    "    else:\n",
    "        loop = False"
   ]
  },
  {
   "cell_type": "code",
   "execution_count": 5,
   "id": "1cd3f7e9",
   "metadata": {},
   "outputs": [
    {
     "name": "stdout",
     "output_type": "stream",
     "text": [
      "จำนวนข้อมูล 3\n",
      "{'std_id': '674245002', 'fname': 'ณัฐพล', 'lname': 'กลิ่นทอง', 'phone': '0982764651', 'gender': 'male', 'major': 'Computer Science'}\n",
      "{'std_id': 'a', 'fname': 'a', 'lname': 'a', 'phone': 'a', 'gender': 'a', 'major': 'a'}\n",
      "{'std_id': '', 'fname': 'q', 'lname': 'q', 'phone': 'q', 'gender': 'q', 'major': 'q'}\n"
     ]
    }
   ],
   "source": [
    "print(\"จำนวนข้อมูล\", len(student))\n",
    "\n",
    "i = 0\n",
    "j = len(student)\n",
    "for i in range(j):\n",
    "    print(student[i])"
   ]
  }
 ],
 "metadata": {
  "kernelspec": {
   "display_name": "Python 3",
   "language": "python",
   "name": "python3"
  },
  "language_info": {
   "codemirror_mode": {
    "name": "ipython",
    "version": 3
   },
   "file_extension": ".py",
   "mimetype": "text/x-python",
   "name": "python",
   "nbconvert_exporter": "python",
   "pygments_lexer": "ipython3",
   "version": "3.11.4"
  }
 },
 "nbformat": 4,
 "nbformat_minor": 5
}
