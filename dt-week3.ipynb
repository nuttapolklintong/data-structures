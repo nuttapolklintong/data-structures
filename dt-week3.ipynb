{
 "cells": [
  {
   "cell_type": "code",
   "execution_count": null,
   "id": "9e772661",
   "metadata": {},
   "outputs": [
    {
     "name": "stdout",
     "output_type": "stream",
     "text": [
      "16\n"
     ]
    }
   ],
   "source": [
    "#Find Function\n",
    "text = \"I DON'T WANT TO SET THE WORLDDDDDDDD ONNNNNN FIREEEEEEEEE\"\n",
    "position = text.find(\"SET\")\n",
    "print(position)"
   ]
  },
  {
   "cell_type": "code",
   "execution_count": null,
   "id": "df989969",
   "metadata": {},
   "outputs": [
    {
     "name": "stdout",
     "output_type": "stream",
     "text": [
      "['ไง', 'สวัสดี']\n"
     ]
    }
   ],
   "source": [
    "#Split Function\n",
    "text = \"    ไง สวัสดี\"\n",
    "words = text.split()\n",
    "print(words)"
   ]
  },
  {
   "cell_type": "code",
   "execution_count": null,
   "id": "667d8d57",
   "metadata": {},
   "outputs": [
    {
     "name": "stdout",
     "output_type": "stream",
     "text": [
      "Dolia Dolia\n"
     ]
    }
   ],
   "source": [
    "#Replace Function\n",
    "text = \"Heino Dolia\"\n",
    "new_text = text.replace(\"Heino\", \"Dolia\")\n",
    "print(new_text)"
   ]
  },
  {
   "cell_type": "code",
   "execution_count": 25,
   "id": "5959415b",
   "metadata": {},
   "outputs": [
    {
     "name": "stdout",
     "output_type": "stream",
     "text": [
      "20\n",
      "4\n"
     ]
    }
   ],
   "source": [
    "#Len Function\n",
    "text = \"INVOKE OF THE STRIKE\"\n",
    "print(len(text))\n",
    "\n",
    "words1 = [\"INVOKE\", \"OF\", \"THE\", \"STRIKE\"]\n",
    "words2 = {\"INVOKE\", \"OF\", \"THE\", \"STRIKE\"}\n",
    "words3 = {\"key\":\"data-type\", \"value\":1}\n",
    "print(len(words))"
   ]
  },
  {
   "cell_type": "code",
   "execution_count": 26,
   "id": "aa9a6c50",
   "metadata": {},
   "outputs": [
    {
     "name": "stdout",
     "output_type": "stream",
     "text": [
      "you nerver give up\n"
     ]
    }
   ],
   "source": [
    "#Lower\n",
    "text = \"You Nerver Give up\"\n",
    "print(text.lower())"
   ]
  },
  {
   "cell_type": "code",
   "execution_count": 27,
   "id": "d1150b78",
   "metadata": {},
   "outputs": [
    {
     "name": "stdout",
     "output_type": "stream",
     "text": [
      "NEVER SAY GOODBYE\n"
     ]
    }
   ],
   "source": [
    "#upper\n",
    "text = \"Never Say Goodbye\"\n",
    "print(text.upper())"
   ]
  },
  {
   "cell_type": "code",
   "execution_count": 30,
   "id": "608b5279",
   "metadata": {},
   "outputs": [
    {
     "name": "stdout",
     "output_type": "stream",
     "text": [
      "old =>  46\n",
      "new =>  43\n"
     ]
    }
   ],
   "source": [
    "#Strip\n",
    "text = \"   ALL WE HAVE YOU DO IS FOLLOW DAMN TRAIN CJ!\"\n",
    "new_text = text.strip()\n",
    "print(\"old => \", len(text))\n",
    "print(\"new => \", len(new_text))"
   ]
  },
  {
   "cell_type": "code",
   "execution_count": 33,
   "id": "0643db65",
   "metadata": {},
   "outputs": [
    {
     "name": "stdout",
     "output_type": "stream",
     "text": [
      "ข้อความที่พิมพ์เข้ามาจำนวน :  43 ตัวอักษร\n",
      "คำว่า c ปรากฏทั้งหมด 0 คำ\n"
     ]
    }
   ],
   "source": [
    "from collections import Counter\n",
    "\n",
    "text1 = input(\"กรอกข้อความที่ต้องการ\")\n",
    "print(\"ข้อความที่พิมพ์เข้ามาจำนวน : \" ,len(text1) ,\"ตัวอักษร\")\n",
    "\n",
    "word = input(\"กรอกคำที่ต้องการค้นหา: \")\n",
    "count = text1.count(word)\n",
    "print(\"คำว่า\" ,word ,\"ปรากฏทั้งหมด\" ,count ,\"คำ\")\n",
    "\n",
    "position = []\n",
    "index = text1.find(word)\n",
    "while index != -1:\n",
    "    position.append(index)\n",
    "    index = text1.find(word, index + 1)\n",
    "    print(\"คำว่า \" ,word ,\"อยู่ตำแหน่งที่\" ,position)\n",
    "\n",
    "    print(\"ตัวอักษรมีทั้งหมด (ไม่รวมเว้นวรรค) : \" ,len(text1.replace(\"\", \"\")))"
   ]
  }
 ],
 "metadata": {
  "kernelspec": {
   "display_name": "base",
   "language": "python",
   "name": "python3"
  },
  "language_info": {
   "codemirror_mode": {
    "name": "ipython",
    "version": 3
   },
   "file_extension": ".py",
   "mimetype": "text/x-python",
   "name": "python",
   "nbconvert_exporter": "python",
   "pygments_lexer": "ipython3",
   "version": "3.13.5"
  }
 },
 "nbformat": 4,
 "nbformat_minor": 5
}
